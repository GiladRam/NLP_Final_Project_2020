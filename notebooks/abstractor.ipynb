{
 "cells": [
  {
   "cell_type": "code",
   "execution_count": 1,
   "outputs": [],
   "source": [
    "from collections import namedtuple\n",
    "\n",
    "from batcher import Batcher\n",
    "from data import Vocab\n",
    "\n",
    "from absl import flags\n",
    "from abstract import run_rewriter\n",
    "from abstract.model import AbstractModel\n",
    "\n",
    "flags.FLAGS([\"abstract\"])\n",
    "from utils import settings"
   ],
   "metadata": {
    "collapsed": false,
    "pycharm": {
     "name": "#%%\n",
     "is_executing": false
    }
   }
  },
  {
   "cell_type": "code",
   "execution_count": 2,
   "outputs": [],
   "source": [
    "FLAGS = flags.FLAGS\n",
    "FLAGS.mode = 'train'\n",
    "FLAGS.model = 'rewriter'\n",
    "\n",
    "hparam_list = ['model', 'mode', 'eval_method', 'selector_loss_wt', 'inconsistent_loss', 'inconsistent_topk', 'lr',\n",
    "               'adagrad_init_acc', 'rand_unif_init_mag', 'trunc_norm_init_std', 'max_grad_norm',\n",
    "               'hidden_dim_selector', 'hidden_dim_rewriter', 'emb_dim', 'batch_size', 'max_art_len', 'max_sent_len',\n",
    "               'max_dec_steps', 'max_enc_steps', 'coverage', 'cov_loss_wt', 'eval_gt_rouge', 'decode_method']\n",
    "hps_dict = {}\n",
    "for key, val in FLAGS.__flags.items():  # for each flag\n",
    "    if key in hparam_list:  # if it's in the list\n",
    "        hps_dict[key] = val.value  # add it to the dict\n",
    "hps = namedtuple(\"HParams\", hps_dict.keys())(**hps_dict)"
   ],
   "metadata": {
    "collapsed": false,
    "pycharm": {
     "name": "#%% \n",
     "is_executing": false
    }
   }
  },
  {
   "cell_type": "code",
   "execution_count": 3,
   "outputs": [
    {
     "name": "stdout",
     "text": [
      "Finished constructing vocabulary of 29231 total words. Last word added: degustation\n"
     ],
     "output_type": "stream"
    }
   ],
   "source": [
    "VOCAB_PATH= '/Users/giladram/Documents/NLP/Final Project/unified-summarization/data/finished_files/vocab'\n",
    "vocab = Vocab(VOCAB_PATH, FLAGS.vocab_size)  # create a vocabulary"
   ],
   "metadata": {
    "collapsed": false,
    "pycharm": {
     "name": "#%%\n",
     "is_executing": false
    }
   }
  },
  {
   "cell_type": "code",
   "execution_count": 4,
   "outputs": [
    {
     "name": "stdout",
     "text": [
      "WARNING:tensorflow:From /Users/giladram/Documents/NLP/Final Project/unified-summarization/data.py:138: The name tf.logging.info is deprecated. Please use tf.compat.v1.logging.info instead.\n\n",
      "INFO:tensorflow:reading file /Users/giladram/Documents/NLP/Final Project/unified-summarization/data/finished_files/chunked/train_000.bin\n"
     ],
     "output_type": "stream"
    }
   ],
   "source": [
    "batcher = Batcher(FLAGS.data_path, vocab, hps, single_pass=True)"
   ],
   "metadata": {
    "collapsed": false,
    "pycharm": {
     "name": "#%%\n",
     "is_executing": false
    }
   }
  },
  {
   "cell_type": "code",
   "execution_count": 5,
   "outputs": [],
   "source": [
    "model = AbstractModel(hps, vocab)\n",
    "run_rewriter.setup_training(model, batcher)"
   ],
   "metadata": {
    "collapsed": false,
    "pycharm": {
     "name": "#%%\n",
     "is_executing": false
    }
   }
  },
  {
   "cell_type": "code",
   "execution_count": null,
   "outputs": [
    {
     "name": "stdout",
     "text": [
      "INFO:tensorflow:Building graph...\n",
      "WARNING:tensorflow:From /Users/giladram/Documents/NLP/Final Project/unified-summarization/abstract/model.py:52: The name tf.placeholder is deprecated. Please use tf.compat.v1.placeholder instead.\n\n",
      "WARNING:tensorflow:From /Users/giladram/Documents/NLP/Final Project/unified-summarization/abstract/model.py:341: The name tf.variable_scope is deprecated. Please use tf.compat.v1.variable_scope instead.\n\n",
      "WARNING:tensorflow:From /Users/giladram/Documents/NLP/Final Project/unified-summarization/abstract/model.py:351: The name tf.get_variable is deprecated. Please use tf.compat.v1.get_variable instead.\n\n",
      "Writing word embedding metadata file to train/vocab_metadata.tsv...\nWARNING:tensorflow:From /Users/giladram/Documents/NLP/Final Project/unified-summarization/abstract/model.py:329: The name tf.summary.FileWriter is deprecated. Please use tf.compat.v1.summary.FileWriter instead.\n\n",
      "WARNING:tensorflow:\nThe TensorFlow contrib module will not be included in TensorFlow 2.0.\nFor more information, please see:\n  * https://github.com/tensorflow/community/blob/master/rfcs/20180907-contrib-sunset.md\n  * https://github.com/tensorflow/addons\n  * https://github.com/tensorflow/io (for I/O related ops)\nIf you depend on functionality not listed there, please file an issue.\n\n",
      "WARNING:tensorflow:From /Users/giladram/Documents/NLP/Final Project/unified-summarization/abstract/model.py:113: __init__ (from tensorflow.python.ops.rnn_cell_impl) is deprecated and will be removed in a future version.\nInstructions for updating:\nThis class is equivalent as tf.keras.layers.LSTMCell, and will be replaced by that in Tensorflow 2.0.\n",
      "WARNING:tensorflow:From /Users/giladram/Documents/NLP/Final Project/unified-summarization/abstract/model.py:119: bidirectional_dynamic_rnn (from tensorflow.python.ops.rnn) is deprecated and will be removed in a future version.\nInstructions for updating:\nPlease use `keras.layers.Bidirectional(keras.layers.RNN(cell))`, which is equivalent to this API\n",
      "WARNING:tensorflow:From /opt/anaconda3/envs/NLPFinal/lib/python2.7/site-packages/tensorflow_core/python/ops/rnn.py:464: dynamic_rnn (from tensorflow.python.ops.rnn) is deprecated and will be removed in a future version.\nInstructions for updating:\nPlease use `keras.layers.RNN(cell)`, which is equivalent to this API\n",
      "WARNING:tensorflow:From /opt/anaconda3/envs/NLPFinal/lib/python2.7/site-packages/tensorflow_core/python/ops/rnn_cell_impl.py:958: add_variable (from tensorflow.python.keras.engine.base_layer) is deprecated and will be removed in a future version.\nInstructions for updating:\nPlease use `layer.add_weight` method instead.\n",
      "WARNING:tensorflow:From /opt/anaconda3/envs/NLPFinal/lib/python2.7/site-packages/tensorflow_core/python/ops/rnn_cell_impl.py:962: calling __init__ (from tensorflow.python.ops.init_ops) with dtype is deprecated and will be removed in a future version.\nInstructions for updating:\nCall initializer instance with the dtype argument instead of passing it to the constructor\n",
      "WARNING:tensorflow:From /opt/anaconda3/envs/NLPFinal/lib/python2.7/site-packages/tensorflow_core/python/ops/rnn.py:244: where (from tensorflow.python.ops.array_ops) is deprecated and will be removed in a future version.\nInstructions for updating:\nUse tf.where in 2.0, which has the same broadcast rule as np.where\n",
      "INFO:tensorflow:Adding attention_decoder TF timestep 0 of 100\n",
      "WARNING:tensorflow:From /Users/giladram/Documents/NLP/Final Project/unified-summarization/abstract/model.py:168: The name tf.get_variable_scope is deprecated. Please use tf.compat.v1.get_variable_scope instead.\n\n",
      "WARNING:tensorflow:From /Users/giladram/Documents/NLP/Final Project/unified-summarization/abstract/attention_decoder.py:122: calling reduce_sum_v1 (from tensorflow.python.ops.math_ops) with keep_dims is deprecated and will be removed in a future version.\nInstructions for updating:\nkeep_dims is deprecated, use keepdims instead\n",
      "WARNING:tensorflow:From /Users/giladram/Documents/NLP/Final Project/unified-summarization/abstract/model.py:259: The name tf.nn.xw_plus_b is deprecated. Please use tf.compat.v1.nn.xw_plus_b instead.\n\n",
      "WARNING:tensorflow:From /Users/giladram/Documents/NLP/Final Project/unified-summarization/abstract/model.py:266: The name tf.log is deprecated. Please use tf.math.log instead.\n\n",
      "INFO:tensorflow:Adding attention_decoder TF timestep 1 of 100\n",
      "INFO:tensorflow:Adding attention_decoder TF timestep 2 of 100\n",
      "INFO:tensorflow:Adding attention_decoder TF timestep 3 of 100\n",
      "INFO:tensorflow:Adding attention_decoder TF timestep 4 of 100\n",
      "INFO:tensorflow:Adding attention_decoder TF timestep 5 of 100\n",
      "INFO:tensorflow:Adding attention_decoder TF timestep 6 of 100\n",
      "INFO:tensorflow:Adding attention_decoder TF timestep 7 of 100\n",
      "INFO:tensorflow:Adding attention_decoder TF timestep 8 of 100\n",
      "INFO:tensorflow:Adding attention_decoder TF timestep 9 of 100\n",
      "INFO:tensorflow:Adding attention_decoder TF timestep 10 of 100\n",
      "INFO:tensorflow:Adding attention_decoder TF timestep 11 of 100\n",
      "INFO:tensorflow:Adding attention_decoder TF timestep 12 of 100\n",
      "INFO:tensorflow:Adding attention_decoder TF timestep 13 of 100\n",
      "INFO:tensorflow:Adding attention_decoder TF timestep 14 of 100\n",
      "INFO:tensorflow:Adding attention_decoder TF timestep 15 of 100\n",
      "INFO:tensorflow:Adding attention_decoder TF timestep 16 of 100\n",
      "INFO:tensorflow:Adding attention_decoder TF timestep 17 of 100\n",
      "INFO:tensorflow:Adding attention_decoder TF timestep 18 of 100\n",
      "INFO:tensorflow:Adding attention_decoder TF timestep 19 of 100\n",
      "INFO:tensorflow:Adding attention_decoder TF timestep 20 of 100\n",
      "INFO:tensorflow:Adding attention_decoder TF timestep 21 of 100\n",
      "INFO:tensorflow:Adding attention_decoder TF timestep 22 of 100\n",
      "INFO:tensorflow:Adding attention_decoder TF timestep 23 of 100\n",
      "INFO:tensorflow:Adding attention_decoder TF timestep 24 of 100\n",
      "INFO:tensorflow:Adding attention_decoder TF timestep 25 of 100\n",
      "INFO:tensorflow:Adding attention_decoder TF timestep 26 of 100\n",
      "INFO:tensorflow:Adding attention_decoder TF timestep 27 of 100\n",
      "INFO:tensorflow:Adding attention_decoder TF timestep 28 of 100\n",
      "INFO:tensorflow:Adding attention_decoder TF timestep 29 of 100\n",
      "INFO:tensorflow:Adding attention_decoder TF timestep 30 of 100\n",
      "INFO:tensorflow:Adding attention_decoder TF timestep 31 of 100\n",
      "INFO:tensorflow:Adding attention_decoder TF timestep 32 of 100\n",
      "INFO:tensorflow:Adding attention_decoder TF timestep 33 of 100\n",
      "INFO:tensorflow:Adding attention_decoder TF timestep 34 of 100\n",
      "INFO:tensorflow:Adding attention_decoder TF timestep 35 of 100\n",
      "INFO:tensorflow:Adding attention_decoder TF timestep 36 of 100\n",
      "INFO:tensorflow:Adding attention_decoder TF timestep 37 of 100\n",
      "INFO:tensorflow:Adding attention_decoder TF timestep 38 of 100\n",
      "INFO:tensorflow:Adding attention_decoder TF timestep 39 of 100\n",
      "INFO:tensorflow:Adding attention_decoder TF timestep 40 of 100\n",
      "INFO:tensorflow:Adding attention_decoder TF timestep 41 of 100\n",
      "INFO:tensorflow:Adding attention_decoder TF timestep 42 of 100\n",
      "INFO:tensorflow:Adding attention_decoder TF timestep 43 of 100\n",
      "INFO:tensorflow:Adding attention_decoder TF timestep 44 of 100\n",
      "INFO:tensorflow:Adding attention_decoder TF timestep 45 of 100\n",
      "INFO:tensorflow:Adding attention_decoder TF timestep 46 of 100\n",
      "INFO:tensorflow:Adding attention_decoder TF timestep 47 of 100\n",
      "INFO:tensorflow:Adding attention_decoder TF timestep 48 of 100\n",
      "INFO:tensorflow:Adding attention_decoder TF timestep 49 of 100\n",
      "INFO:tensorflow:Adding attention_decoder TF timestep 50 of 100\n",
      "INFO:tensorflow:Adding attention_decoder TF timestep 51 of 100\n",
      "INFO:tensorflow:Adding attention_decoder TF timestep 52 of 100\n",
      "INFO:tensorflow:Adding attention_decoder TF timestep 53 of 100\n",
      "INFO:tensorflow:Adding attention_decoder TF timestep 54 of 100\n",
      "INFO:tensorflow:Adding attention_decoder TF timestep 55 of 100\n",
      "INFO:tensorflow:Adding attention_decoder TF timestep 56 of 100\n",
      "INFO:tensorflow:Adding attention_decoder TF timestep 57 of 100\n",
      "INFO:tensorflow:Adding attention_decoder TF timestep 58 of 100\n",
      "INFO:tensorflow:Adding attention_decoder TF timestep 59 of 100\n",
      "INFO:tensorflow:Adding attention_decoder TF timestep 60 of 100\n",
      "INFO:tensorflow:Adding attention_decoder TF timestep 61 of 100\n",
      "INFO:tensorflow:Adding attention_decoder TF timestep 62 of 100\n",
      "INFO:tensorflow:Adding attention_decoder TF timestep 63 of 100\n",
      "INFO:tensorflow:Adding attention_decoder TF timestep 64 of 100\n",
      "INFO:tensorflow:Adding attention_decoder TF timestep 65 of 100\n",
      "INFO:tensorflow:Adding attention_decoder TF timestep 66 of 100\n",
      "INFO:tensorflow:Adding attention_decoder TF timestep 67 of 100\n",
      "INFO:tensorflow:Adding attention_decoder TF timestep 68 of 100\n",
      "INFO:tensorflow:Adding attention_decoder TF timestep 69 of 100\n",
      "INFO:tensorflow:Adding attention_decoder TF timestep 70 of 100\n",
      "INFO:tensorflow:Adding attention_decoder TF timestep 71 of 100\n",
      "INFO:tensorflow:Adding attention_decoder TF timestep 72 of 100\n",
      "INFO:tensorflow:Adding attention_decoder TF timestep 73 of 100\n",
      "INFO:tensorflow:Adding attention_decoder TF timestep 74 of 100\n",
      "INFO:tensorflow:Adding attention_decoder TF timestep 75 of 100\n",
      "INFO:tensorflow:Adding attention_decoder TF timestep 76 of 100\n",
      "INFO:tensorflow:Adding attention_decoder TF timestep 77 of 100\n",
      "INFO:tensorflow:Adding attention_decoder TF timestep 78 of 100\n",
      "INFO:tensorflow:Adding attention_decoder TF timestep 79 of 100\n",
      "INFO:tensorflow:Adding attention_decoder TF timestep 80 of 100\n",
      "INFO:tensorflow:Adding attention_decoder TF timestep 81 of 100\n",
      "INFO:tensorflow:Adding attention_decoder TF timestep 82 of 100\n",
      "INFO:tensorflow:Adding attention_decoder TF timestep 83 of 100\n",
      "INFO:tensorflow:Adding attention_decoder TF timestep 84 of 100\n",
      "INFO:tensorflow:Adding attention_decoder TF timestep 85 of 100\n",
      "INFO:tensorflow:Adding attention_decoder TF timestep 86 of 100\n",
      "INFO:tensorflow:Adding attention_decoder TF timestep 87 of 100\n",
      "INFO:tensorflow:Adding attention_decoder TF timestep 88 of 100\n",
      "INFO:tensorflow:Adding attention_decoder TF timestep 89 of 100\n",
      "INFO:tensorflow:Adding attention_decoder TF timestep 90 of 100\n",
      "INFO:tensorflow:Adding attention_decoder TF timestep 91 of 100\n",
      "INFO:tensorflow:Adding attention_decoder TF timestep 92 of 100\n",
      "INFO:tensorflow:Adding attention_decoder TF timestep 93 of 100\n",
      "INFO:tensorflow:Adding attention_decoder TF timestep 94 of 100\n",
      "INFO:tensorflow:Adding attention_decoder TF timestep 95 of 100\n",
      "INFO:tensorflow:Adding attention_decoder TF timestep 96 of 100\n",
      "INFO:tensorflow:Adding attention_decoder TF timestep 97 of 100\n",
      "INFO:tensorflow:Adding attention_decoder TF timestep 98 of 100\n",
      "INFO:tensorflow:Adding attention_decoder TF timestep 99 of 100\n",
      "WARNING:tensorflow:From /Users/giladram/Documents/NLP/Final Project/unified-summarization/abstract/model.py:402: The name tf.summary.scalar is deprecated. Please use tf.compat.v1.summary.scalar instead.\n\n",
      "WARNING:tensorflow:From /Users/giladram/Documents/NLP/Final Project/unified-summarization/abstract/model.py:430: The name tf.trainable_variables is deprecated. Please use tf.compat.v1.trainable_variables instead.\n\n",
      "WARNING:tensorflow:From /Users/giladram/Documents/NLP/Final Project/unified-summarization/abstract/model.py:441: The name tf.train.AdagradOptimizer is deprecated. Please use tf.compat.v1.train.AdagradOptimizer instead.\n\n",
      "WARNING:tensorflow:From /opt/anaconda3/envs/NLPFinal/lib/python2.7/site-packages/tensorflow_core/python/training/adagrad.py:76: calling __init__ (from tensorflow.python.ops.init_ops) with dtype is deprecated and will be removed in a future version.\nInstructions for updating:\nCall initializer instance with the dtype argument instead of passing it to the constructor\n",
      "WARNING:tensorflow:From /Users/giladram/Documents/NLP/Final Project/unified-summarization/abstract/model.py:456: The name tf.summary.merge_all is deprecated. Please use tf.compat.v1.summary.merge_all instead.\n\n",
      "INFO:tensorflow:Time to build graph: 31 seconds\n",
      "WARNING:tensorflow:From /Users/giladram/Documents/NLP/Final Project/unified-summarization/abstract/run_rewriter.py:140: The name tf.train.Saver is deprecated. Please use tf.compat.v1.train.Saver instead.\n\n",
      "WARNING:tensorflow:From /Users/giladram/Documents/NLP/Final Project/unified-summarization/abstract/run_rewriter.py:141: The name tf.Session is deprecated. Please use tf.compat.v1.Session instead.\n\n",
      "WARNING:tensorflow:From /Users/giladram/Documents/NLP/Final Project/unified-summarization/utils/util.py:30: The name tf.ConfigProto is deprecated. Please use tf.compat.v1.ConfigProto instead.\n\n",
      "INFO:tensorflow:max_enc_steps: 600, max_dec_steps: 100\n",
      "INFO:tensorflow:Failed to load checkpoint from train. Sleeping for 10 secs...\n",
      "INFO:tensorflow:Failed to load checkpoint from train. Sleeping for 10 secs...\n",
      "INFO:tensorflow:Failed to load checkpoint from train. Sleeping for 10 secs...\n",
      "INFO:tensorflow:Failed to load checkpoint from train. Sleeping for 10 secs...\n"
     ],
     "output_type": "stream"
    }
   ],
   "source": [
    "run_rewriter.run_eval(model, batcher)"
   ],
   "metadata": {
    "collapsed": false,
    "pycharm": {
     "name": "#%%\n",
     "is_executing": true
    }
   }
  }
 ],
 "metadata": {
  "kernelspec": {
   "name": "python2",
   "language": "python",
   "display_name": "Python 2"
  },
  "language_info": {
   "codemirror_mode": {
    "name": "ipython",
    "version": 2
   },
   "file_extension": ".py",
   "mimetype": "text/x-python",
   "name": "python",
   "nbconvert_exporter": "python",
   "pygments_lexer": "ipython2",
   "version": "2.7.6"
  },
  "pycharm": {
   "stem_cell": {
    "cell_type": "raw",
    "source": [],
    "metadata": {
     "collapsed": false
    }
   }
  }
 },
 "nbformat": 4,
 "nbformat_minor": 0
}