{
 "cells": [
  {
   "cell_type": "code",
   "execution_count": 1,
   "outputs": [],
   "source": [
    "from collections import namedtuple\n",
    "\n",
    "from batcher import Batcher\n",
    "from data import Vocab\n",
    "\n",
    "from absl import flags\n",
    "from extractor import run_selector\n",
    "from extractor.model import ExtractorModel\n",
    "\n",
    "flags.FLAGS([\"extractor\"])\n",
    "from utils import settings\n",
    "\n",
    "FLAGS = flags.FLAGS"
   ],
   "metadata": {
    "collapsed": false,
    "pycharm": {
     "name": "#%%\n",
     "is_executing": false
    }
   }
  },
  {
   "cell_type": "code",
   "execution_count": 2,
   "outputs": [
    {
     "name": "stdout",
     "text": [
      "Finished constructing vocabulary of 29231 total words. Last word added: degustation\n"
     ],
     "output_type": "stream"
    }
   ],
   "source": [
    "VOCAB_PATH= '/Users/giladram/Documents/NLP/Final Project/unified-summarization/data/finished_files/vocab'\n",
    "\n",
    "vocab = Vocab(VOCAB_PATH, FLAGS.vocab_size)  # create a vocabulary"
   ],
   "metadata": {
    "collapsed": false,
    "pycharm": {
     "name": "#%% \n",
     "is_executing": false
    }
   }
  },
  {
   "cell_type": "code",
   "execution_count": 3,
   "outputs": [],
   "source": [
    "FLAGS.mode = 'train'\n",
    "FLAGS.model = 'selector'\n",
    "\n",
    "hparam_list = ['model', 'mode', 'eval_method', 'selector_loss_wt', 'inconsistent_loss', 'inconsistent_topk', 'lr',\n",
    "               'adagrad_init_acc', 'rand_unif_init_mag', 'trunc_norm_init_std', 'max_grad_norm',\n",
    "               'hidden_dim_selector', 'hidden_dim_rewriter', 'emb_dim', 'batch_size', 'max_art_len', 'max_sent_len',\n",
    "               'max_dec_steps', 'max_enc_steps', 'coverage', 'cov_loss_wt', 'eval_gt_rouge', 'decode_method']\n",
    "hps_dict = {}\n",
    "for key, val in FLAGS.__flags.items():  # for each flag\n",
    "    if key in hparam_list:  # if it's in the list\n",
    "        hps_dict[key] = val.value  # add it to the dict\n",
    "hps = namedtuple(\"HParams\", hps_dict.keys())(**hps_dict)"
   ],
   "metadata": {
    "collapsed": false,
    "pycharm": {
     "name": "#%%\n",
     "is_executing": false
    }
   }
  },
  {
   "cell_type": "code",
   "execution_count": 4,
   "outputs": [
    {
     "name": "stdout",
     "text": [
      "WARNING:tensorflow:From /Users/giladram/Documents/NLP/Final Project/unified-summarization/data.py:138: The name tf.logging.info is deprecated. Please use tf.compat.v1.logging.info instead.\n\n",
      "INFO:tensorflow:reading file /Users/giladram/Documents/NLP/Final Project/unified-summarization/data/finished_files/chunked/train_000.bin\n"
     ],
     "output_type": "stream"
    }
   ],
   "source": [
    "batcher = Batcher(FLAGS.data_path, vocab, hps, single_pass=True)"
   ],
   "metadata": {
    "collapsed": false,
    "pycharm": {
     "name": "#%%\n",
     "is_executing": false
    }
   }
  },
  {
   "cell_type": "code",
   "execution_count": 5,
   "outputs": [
    {
     "name": "stdout",
     "text": [
      "WARNING:tensorflow:From /Users/giladram/Documents/NLP/Final Project/unified-summarization/batcher.py:389: The name tf.logging.warning is deprecated. Please use tf.compat.v1.logging.warning instead.\n\n",
      "WARNING:tensorflow:Bucket input queue is empty when calling next_batch.\n"
     ],
     "output_type": "stream"
    }
   ],
   "source": [
    "batcher.next_batch()"
   ],
   "metadata": {
    "collapsed": false,
    "pycharm": {
     "name": "#%%\n",
     "is_executing": false
    }
   }
  },
  {
   "cell_type": "code",
   "execution_count": 6,
   "outputs": [
    {
     "name": "stdout",
     "text": [
      "INFO:tensorflow:Building graph...\n",
      "WARNING:tensorflow:From /Users/giladram/Documents/NLP/Final Project/unified-summarization/extractor/model.py:54: The name tf.placeholder is deprecated. Please use tf.compat.v1.placeholder instead.\n\n",
      "WARNING:tensorflow:From /Users/giladram/Documents/NLP/Final Project/unified-summarization/extractor/model.py:159: The name tf.variable_scope is deprecated. Please use tf.compat.v1.variable_scope instead.\n\n",
      "WARNING:tensorflow:From /Users/giladram/Documents/NLP/Final Project/unified-summarization/extractor/model.py:168: The name tf.get_variable is deprecated. Please use tf.compat.v1.get_variable instead.\n\n",
      "Writing word embedding metadata file to train/vocab_metadata.tsv...\nWARNING:tensorflow:From /Users/giladram/Documents/NLP/Final Project/unified-summarization/extractor/model.py:147: The name tf.summary.FileWriter is deprecated. Please use tf.compat.v1.summary.FileWriter instead.\n\n",
      "WARNING:tensorflow:\nThe TensorFlow contrib module will not be included in TensorFlow 2.0.\nFor more information, please see:\n  * https://github.com/tensorflow/community/blob/master/rfcs/20180907-contrib-sunset.md\n  * https://github.com/tensorflow/addons\n  * https://github.com/tensorflow/io (for I/O related ops)\nIf you depend on functionality not listed there, please file an issue.\n\n",
      "WARNING:tensorflow:From /Users/giladram/Documents/NLP/Final Project/unified-summarization/extractor/model.py:94: __init__ (from tensorflow.python.ops.rnn_cell_impl) is deprecated and will be removed in a future version.\nInstructions for updating:\nThis class is equivalent as tf.keras.layers.GRUCell, and will be replaced by that in Tensorflow 2.0.\n",
      "WARNING:tensorflow:From /Users/giladram/Documents/NLP/Final Project/unified-summarization/extractor/model.py:98: bidirectional_dynamic_rnn (from tensorflow.python.ops.rnn) is deprecated and will be removed in a future version.\nInstructions for updating:\nPlease use `keras.layers.Bidirectional(keras.layers.RNN(cell))`, which is equivalent to this API\n",
      "WARNING:tensorflow:From /opt/anaconda3/envs/NLPFinal/lib/python2.7/site-packages/tensorflow_core/python/ops/rnn.py:464: dynamic_rnn (from tensorflow.python.ops.rnn) is deprecated and will be removed in a future version.\nInstructions for updating:\nPlease use `keras.layers.RNN(cell)`, which is equivalent to this API\n",
      "WARNING:tensorflow:From /opt/anaconda3/envs/NLPFinal/lib/python2.7/site-packages/tensorflow_core/python/ops/rnn_cell_impl.py:559: add_variable (from tensorflow.python.keras.engine.base_layer) is deprecated and will be removed in a future version.\nInstructions for updating:\nPlease use `layer.add_weight` method instead.\n",
      "WARNING:tensorflow:From /opt/anaconda3/envs/NLPFinal/lib/python2.7/site-packages/tensorflow_core/python/ops/rnn_cell_impl.py:565: calling __init__ (from tensorflow.python.ops.init_ops) with dtype is deprecated and will be removed in a future version.\nInstructions for updating:\nCall initializer instance with the dtype argument instead of passing it to the constructor\n",
      "WARNING:tensorflow:From /opt/anaconda3/envs/NLPFinal/lib/python2.7/site-packages/tensorflow_core/python/ops/rnn_cell_impl.py:575: calling __init__ (from tensorflow.python.ops.init_ops) with dtype is deprecated and will be removed in a future version.\nInstructions for updating:\nCall initializer instance with the dtype argument instead of passing it to the constructor\n",
      "WARNING:tensorflow:From /opt/anaconda3/envs/NLPFinal/lib/python2.7/site-packages/tensorflow_core/python/ops/rnn.py:244: where (from tensorflow.python.ops.array_ops) is deprecated and will be removed in a future version.\nInstructions for updating:\nUse tf.where in 2.0, which has the same broadcast rule as np.where\n",
      "WARNING:tensorflow:From /opt/anaconda3/envs/NLPFinal/lib/python2.7/site-packages/tensorflow_core/contrib/layers/python/layers/layers.py:1866: apply (from tensorflow.python.keras.engine.base_layer) is deprecated and will be removed in a future version.\nInstructions for updating:\nPlease use `layer.__call__` method instead.\n",
      "WARNING:tensorflow:From /Users/giladram/Documents/NLP/Final Project/unified-summarization/extractor/model.py:128: calling reduce_sum_v1 (from tensorflow.python.ops.math_ops) with keep_dims is deprecated and will be removed in a future version.\nInstructions for updating:\nkeep_dims is deprecated, use keepdims instead\n",
      "WARNING:tensorflow:From /Users/giladram/Documents/NLP/Final Project/unified-summarization/extractor/model.py:212: The name tf.summary.scalar is deprecated. Please use tf.compat.v1.summary.scalar instead.\n\n",
      "WARNING:tensorflow:From /Users/giladram/Documents/NLP/Final Project/unified-summarization/extractor/model.py:226: The name tf.trainable_variables is deprecated. Please use tf.compat.v1.trainable_variables instead.\n\n",
      "WARNING:tensorflow:From /Users/giladram/Documents/NLP/Final Project/unified-summarization/extractor/model.py:238: The name tf.train.AdagradOptimizer is deprecated. Please use tf.compat.v1.train.AdagradOptimizer instead.\n\n",
      "WARNING:tensorflow:From /Users/giladram/Documents/NLP/Final Project/unified-summarization/extractor/model.py:253: The name tf.summary.merge_all is deprecated. Please use tf.compat.v1.summary.merge_all instead.\n\n",
      "INFO:tensorflow:Time to build graph: 5 seconds\n",
      "WARNING:tensorflow:From /Users/giladram/Documents/NLP/Final Project/unified-summarization/extractor/run_selector.py:53: The name tf.train.Saver is deprecated. Please use tf.compat.v1.train.Saver instead.\n\n",
      "WARNING:tensorflow:From /Users/giladram/Documents/NLP/Final Project/unified-summarization/extractor/run_selector.py:71: __init__ (from tensorflow.python.training.supervisor) is deprecated and will be removed in a future version.\nInstructions for updating:\nPlease switch to tf.train.MonitoredTrainingSession\n",
      "INFO:tensorflow:Preparing or waiting for session...\n",
      "WARNING:tensorflow:From /Users/giladram/Documents/NLP/Final Project/unified-summarization/utils/util.py:30: The name tf.ConfigProto is deprecated. Please use tf.compat.v1.ConfigProto instead.\n\n",
      "INFO:tensorflow:Running local_init_op.\n",
      "INFO:tensorflow:Done running local_init_op.\n",
      "INFO:tensorflow:Starting standard services.\n",
      "INFO:tensorflow:Starting queue runners.\n",
      "INFO:tensorflow:global_step/sec: 0\n",
      "INFO:tensorflow:Created session.\n",
      "INFO:tensorflow:starting run_training\n",
      "INFO:tensorflow:running training step...\n",
      "INFO:tensorflow:seconds for training step: 12.587\n",
      "INFO:tensorflow:loss: 0.693147\n",
      "WARNING:tensorflow:fail to reach target recall: 0.9\n",
      "INFO:tensorflow:recall: 0.000000, ratio: 1.000000, thres: 0.000000\n",
      "WARNING:tensorflow:From /Users/giladram/Documents/NLP/Final Project/unified-summarization/extractor/run_selector.py:30: The name tf.Summary is deprecated. Please use tf.compat.v1.Summary instead.\n\n",
      "Step:  1\nINFO:tensorflow:running training step...\n",
      "INFO:tensorflow:seconds for training step: 2.078\n",
      "INFO:tensorflow:loss: 0.676463\n",
      "WARNING:tensorflow:fail to reach target recall: 0.9\n",
      "INFO:tensorflow:recall: 0.000000, ratio: 1.000000, thres: 0.000000\n",
      "Step:  2\nINFO:tensorflow:running training step...\n",
      "INFO:tensorflow:seconds for training step: 2.106\n",
      "INFO:tensorflow:loss: 0.663893\n",
      "WARNING:tensorflow:fail to reach target recall: 0.9\n",
      "INFO:tensorflow:recall: 0.000000, ratio: 1.000000, thres: 0.000000\n",
      "Step:  3\nINFO:tensorflow:running training step...\n",
      "INFO:tensorflow:seconds for training step: 1.859\n",
      "INFO:tensorflow:loss: 0.647948\n",
      "WARNING:tensorflow:fail to reach target recall: 0.9\n",
      "INFO:tensorflow:recall: 0.000000, ratio: 1.000000, thres: 0.000000\n",
      "Step:  4\nINFO:tensorflow:running training step...\n",
      "INFO:tensorflow:seconds for training step: 1.541\n",
      "INFO:tensorflow:loss: 0.668566\n",
      "WARNING:tensorflow:fail to reach target recall: 0.9\n",
      "INFO:tensorflow:recall: 0.000000, ratio: 1.000000, thres: 0.000000\n",
      "Step:  5\nINFO:tensorflow:running training step...\n",
      "INFO:tensorflow:seconds for training step: 1.622\n",
      "INFO:tensorflow:loss: 0.659266\n",
      "WARNING:tensorflow:fail to reach target recall: 0.9\n",
      "INFO:tensorflow:recall: 0.000000, ratio: 1.000000, thres: 0.000000\n",
      "Step:  6\nINFO:tensorflow:running training step...\n",
      "INFO:tensorflow:seconds for training step: 1.613\n",
      "INFO:tensorflow:loss: 0.639203\n",
      "WARNING:tensorflow:fail to reach target recall: 0.9\n",
      "INFO:tensorflow:recall: 0.000000, ratio: 1.000000, thres: 0.000000\n",
      "Step:  7\nINFO:tensorflow:running training step...\n",
      "INFO:tensorflow:seconds for training step: 1.938\n",
      "INFO:tensorflow:loss: 0.642439\n",
      "WARNING:tensorflow:fail to reach target recall: 0.9\n",
      "INFO:tensorflow:recall: 0.000000, ratio: 1.000000, thres: 0.000000\n",
      "Step:  8\nINFO:tensorflow:running training step...\n",
      "INFO:tensorflow:seconds for training step: 1.826\n",
      "INFO:tensorflow:loss: 0.631942\n",
      "WARNING:tensorflow:fail to reach target recall: 0.9\n",
      "INFO:tensorflow:recall: 0.000000, ratio: 1.000000, thres: 0.000000\n",
      "Step:  9\nINFO:tensorflow:running training step...\n",
      "INFO:tensorflow:seconds for training step: 1.688\n",
      "INFO:tensorflow:loss: 0.638189\n",
      "INFO:tensorflow:recall: 0.909249, ratio: 0.926381, thres: 0.399344\n",
      "Step:  10\nINFO:tensorflow:running training step...\n",
      "INFO:tensorflow:seconds for training step: 1.766\n",
      "INFO:tensorflow:loss: 0.624748\n",
      "WARNING:tensorflow:fail to reach target recall: 0.9\n",
      "INFO:tensorflow:recall: 0.000000, ratio: 1.000000, thres: 0.000000\n",
      "Step:  11\nINFO:tensorflow:running training step...\n",
      "INFO:tensorflow:seconds for training step: 1.610\n",
      "INFO:tensorflow:loss: 0.638265\n",
      "WARNING:tensorflow:fail to reach target recall: 0.9\n",
      "INFO:tensorflow:recall: 0.000000, ratio: 1.000000, thres: 0.000000\n",
      "Step:  12\nINFO:tensorflow:running training step...\n",
      "INFO:tensorflow:seconds for training step: 1.844\n",
      "INFO:tensorflow:loss: 0.650311\n",
      "WARNING:tensorflow:fail to reach target recall: 0.9\n",
      "INFO:tensorflow:recall: 0.000000, ratio: 1.000000, thres: 0.000000\n",
      "Step:  13\nINFO:tensorflow:running training step...\n",
      "INFO:tensorflow:seconds for training step: 1.609\n",
      "INFO:tensorflow:loss: 0.637787\n",
      "INFO:tensorflow:recall: 0.904514, ratio: 0.929990, thres: 0.381193\n",
      "Step:  14\nINFO:tensorflow:running training step...\n",
      "INFO:tensorflow:seconds for training step: 1.771\n",
      "INFO:tensorflow:loss: 0.635581\n",
      "WARNING:tensorflow:fail to reach target recall: 0.9\n",
      "INFO:tensorflow:recall: 0.000000, ratio: 1.000000, thres: 0.000000\n",
      "Step:  15\nINFO:tensorflow:running training step...\n",
      "INFO:tensorflow:seconds for training step: 1.729\n",
      "INFO:tensorflow:loss: 0.667158\n",
      "INFO:tensorflow:recall: 0.892140, ratio: 0.933144, thres: 0.374407\n",
      "Step:  16\nINFO:tensorflow:running training step...\n",
      "INFO:tensorflow:seconds for training step: 1.739\n",
      "INFO:tensorflow:loss: 0.630602\n",
      "INFO:tensorflow:recall: 0.900541, ratio: 0.841860, thres: 0.375110\n",
      "Step:  17\nINFO:tensorflow:running training step...\n",
      "INFO:tensorflow:seconds for training step: 1.951\n",
      "INFO:tensorflow:loss: 0.605696\n",
      "INFO:tensorflow:recall: 0.902676, ratio: 0.893846, thres: 0.371418\n",
      "Step:  18\nINFO:tensorflow:running training step...\n",
      "INFO:tensorflow:seconds for training step: 1.886\n",
      "INFO:tensorflow:loss: 0.652610\n",
      "INFO:tensorflow:recall: 0.908223, ratio: 0.924015, thres: 0.365312\n",
      "Step:  19\nINFO:tensorflow:running training step...\n",
      "INFO:tensorflow:seconds for training step: 1.676\n",
      "INFO:tensorflow:loss: 0.614780\n",
      "INFO:tensorflow:recall: 0.898875, ratio: 0.882973, thres: 0.364903\n",
      "Step:  20\nINFO:tensorflow:running training step...\n",
      "INFO:tensorflow:seconds for training step: 1.804\n",
      "INFO:tensorflow:loss: 0.612091\n",
      "INFO:tensorflow:recall: 0.902530, ratio: 0.910329, thres: 0.360521\n",
      "Step:  21\nINFO:tensorflow:running training step...\n",
      "INFO:tensorflow:seconds for training step: 1.898\n",
      "INFO:tensorflow:loss: 0.625590\n",
      "INFO:tensorflow:recall: 0.890425, ratio: 0.901857, thres: 0.356314\n",
      "Step:  22\nINFO:tensorflow:running training step...\n",
      "INFO:tensorflow:seconds for training step: 1.888\n",
      "INFO:tensorflow:loss: 0.642265\n",
      "INFO:tensorflow:recall: 0.905208, ratio: 0.896427, thres: 0.353816\n",
      "Step:  23\nINFO:tensorflow:running training step...\n",
      "INFO:tensorflow:seconds for training step: 1.775\n",
      "INFO:tensorflow:loss: 0.619514\n",
      "INFO:tensorflow:recall: 0.908347, ratio: 0.870451, thres: 0.353098\n",
      "Step:  24\nINFO:tensorflow:running training step...\n",
      "INFO:tensorflow:global_step/sec: 0.399992\n",
      "INFO:tensorflow:seconds for training step: 2.094\n",
      "INFO:tensorflow:loss: 0.624490\n",
      "INFO:tensorflow:recall: 0.896528, ratio: 0.916622, thres: 0.350283\n",
      "Step:  25\nINFO:tensorflow:running training step...\n",
      "INFO:tensorflow:seconds for training step: 1.892\n",
      "INFO:tensorflow:loss: 0.633271\n",
      "INFO:tensorflow:recall: 0.890412, ratio: 0.889614, thres: 0.348152\n",
      "Step:  26\nINFO:tensorflow:running training step...\n",
      "INFO:tensorflow:seconds for training step: 1.943\n",
      "INFO:tensorflow:loss: 0.647015\n",
      "INFO:tensorflow:recall: 0.906291, ratio: 0.907346, thres: 0.346972\n",
      "Step:  27\nINFO:tensorflow:running training step...\n",
      "INFO:tensorflow:seconds for training step: 2.153\n",
      "INFO:tensorflow:loss: 0.606129\n",
      "INFO:tensorflow:recall: 0.903499, ratio: 0.866896, thres: 0.347097\n",
      "Step:  28\nINFO:tensorflow:running training step...\n",
      "INFO:tensorflow:seconds for training step: 2.074\n",
      "INFO:tensorflow:loss: 0.629022\n",
      "INFO:tensorflow:recall: 0.909549, ratio: 0.889346, thres: 0.343576\n",
      "Step:  29\nINFO:tensorflow:running training step...\n",
      "INFO:tensorflow:seconds for training step: 2.063\n",
      "INFO:tensorflow:loss: 0.648700\n",
      "INFO:tensorflow:recall: 0.893644, ratio: 0.854990, thres: 0.342329\n",
      "Step:  30\nINFO:tensorflow:running training step...\n",
      "INFO:tensorflow:seconds for training step: 1.862\n",
      "INFO:tensorflow:loss: 0.596657\n",
      "INFO:tensorflow:recall: 0.902178, ratio: 0.900585, thres: 0.342842\n",
      "Step:  31\nINFO:tensorflow:running training step...\n",
      "INFO:tensorflow:seconds for training step: 1.911\n",
      "INFO:tensorflow:loss: 0.615809\n",
      "INFO:tensorflow:recall: 0.904554, ratio: 0.888136, thres: 0.338886\n",
      "Step:  32\nINFO:tensorflow:running training step...\n",
      "INFO:tensorflow:seconds for training step: 2.261\n",
      "INFO:tensorflow:loss: 0.623558\n",
      "INFO:tensorflow:recall: 0.901959, ratio: 0.908096, thres: 0.336841\n",
      "Step:  33\nINFO:tensorflow:running training step...\n",
      "INFO:tensorflow:seconds for training step: 1.930\n",
      "INFO:tensorflow:loss: 0.632854\n",
      "INFO:tensorflow:recall: 0.901476, ratio: 0.893003, thres: 0.335581\n",
      "Step:  34\nINFO:tensorflow:running training step...\n",
      "INFO:tensorflow:seconds for training step: 2.218\n",
      "INFO:tensorflow:loss: 0.658209\n",
      "INFO:tensorflow:recall: 0.907738, ratio: 0.887939, thres: 0.335142\n",
      "Step:  35\nINFO:tensorflow:running training step...\n",
      "INFO:tensorflow:seconds for training step: 1.880\n",
      "INFO:tensorflow:loss: 0.621112\n",
      "INFO:tensorflow:recall: 0.904735, ratio: 0.873336, thres: 0.336769\n",
      "Step:  36\nINFO:tensorflow:running training step...\n",
      "INFO:tensorflow:seconds for training step: 1.763\n",
      "INFO:tensorflow:loss: 0.609981\n",
      "INFO:tensorflow:recall: 0.899919, ratio: 0.843520, thres: 0.335289\n",
      "Step:  37\nINFO:tensorflow:running training step...\n",
      "INFO:tensorflow:seconds for training step: 1.699\n",
      "INFO:tensorflow:loss: 0.629823\n",
      "INFO:tensorflow:recall: 0.896652, ratio: 0.837946, thres: 0.333003\n",
      "Step:  38\nINFO:tensorflow:running training step...\n",
      "INFO:tensorflow:seconds for training step: 1.986\n",
      "INFO:tensorflow:loss: 0.587846\n",
      "INFO:tensorflow:recall: 0.909301, ratio: 0.928652, thres: 0.332430\n",
      "Step:  39\nINFO:tensorflow:running training step...\n",
      "INFO:tensorflow:seconds for training step: 2.007\n",
      "INFO:tensorflow:loss: 0.616041\n",
      "INFO:tensorflow:recall: 0.902460, ratio: 0.801835, thres: 0.328605\n",
      "Step:  40\nINFO:tensorflow:running training step...\n",
      "INFO:tensorflow:seconds for training step: 1.655\n",
      "INFO:tensorflow:loss: 0.629073\n",
      "INFO:tensorflow:recall: 0.895595, ratio: 0.877117, thres: 0.327197\n",
      "Step:  41\nINFO:tensorflow:running training step...\n",
      "INFO:tensorflow:seconds for training step: 1.896\n",
      "INFO:tensorflow:loss: 0.640627\n",
      "INFO:tensorflow:recall: 0.903693, ratio: 0.835336, thres: 0.326854\n",
      "Step:  42\nINFO:tensorflow:running training step...\n",
      "INFO:tensorflow:seconds for training step: 1.752\n",
      "INFO:tensorflow:loss: 0.563127\n",
      "WARNING:tensorflow:fail to reach target recall: 0.9\n",
      "INFO:tensorflow:recall: 0.000000, ratio: 1.000000, thres: 0.000000\n",
      "Step:  43\nINFO:tensorflow:running training step...\n",
      "INFO:tensorflow:seconds for training step: 1.691\n",
      "INFO:tensorflow:loss: 0.613339\n",
      "INFO:tensorflow:recall: 0.905438, ratio: 0.884080, thres: 0.321539\n",
      "Step:  44\nINFO:tensorflow:running training step...\n",
      "INFO:tensorflow:seconds for training step: 1.617\n",
      "INFO:tensorflow:loss: 0.645877\n",
      "INFO:tensorflow:recall: 0.899838, ratio: 0.874958, thres: 0.319836\n",
      "Step:  45\nINFO:tensorflow:running training step...\n",
      "INFO:tensorflow:seconds for training step: 1.873\n",
      "INFO:tensorflow:loss: 0.669584\n",
      "INFO:tensorflow:recall: 0.896641, ratio: 0.890532, thres: 0.320605\n",
      "Step:  46\nINFO:tensorflow:running training step...\n",
      "INFO:tensorflow:seconds for training step: 1.806\n",
      "INFO:tensorflow:loss: 0.627220\n",
      "INFO:tensorflow:recall: 0.899968, ratio: 0.845873, thres: 0.323022\n",
      "Step:  47\nINFO:tensorflow:running training step...\n",
      "INFO:tensorflow:seconds for training step: 1.677\n",
      "INFO:tensorflow:loss: 0.613956\n",
      "INFO:tensorflow:recall: 0.903185, ratio: 0.851608, thres: 0.321045\n",
      "Step:  48\nINFO:tensorflow:running training step...\n",
      "INFO:tensorflow:seconds for training step: 1.707\n",
      "INFO:tensorflow:loss: 0.623333\n",
      "INFO:tensorflow:recall: 0.901939, ratio: 0.875504, thres: 0.317529\n",
      "Step:  49\nINFO:tensorflow:running training step...\n",
      "INFO:tensorflow:seconds for training step: 1.756\n",
      "INFO:tensorflow:loss: 0.655310\n",
      "INFO:tensorflow:recall: 0.900075, ratio: 0.868507, thres: 0.311816\n",
      "Step:  50\nINFO:tensorflow:running training step...\n",
      "INFO:tensorflow:seconds for training step: 1.830\n",
      "INFO:tensorflow:loss: 0.631289\n",
      "INFO:tensorflow:recall: 0.909747, ratio: 0.936560, thres: 0.303027\n",
      "Step:  51\nINFO:tensorflow:running training step...\n",
      "INFO:tensorflow:seconds for training step: 1.686\n",
      "INFO:tensorflow:loss: 0.672076\n",
      "INFO:tensorflow:recall: 0.893466, ratio: 0.849471, thres: 0.293359\n",
      "Step:  52\nINFO:tensorflow:running training step...\n",
      "INFO:tensorflow:seconds for training step: 1.835\n",
      "INFO:tensorflow:loss: 0.593764\n",
      "INFO:tensorflow:recall: 0.891797, ratio: 0.876804, thres: 0.272266\n",
      "Step:  53\nINFO:tensorflow:running training step...\n",
      "INFO:tensorflow:seconds for training step: 1.731\n",
      "INFO:tensorflow:loss: 0.633050\n",
      "INFO:tensorflow:recall: 0.890931, ratio: 0.818429, thres: 0.233594\n",
      "Step:  54\nINFO:tensorflow:running training step...\n",
      "INFO:tensorflow:global_step/sec: 0.500004\n",
      "INFO:tensorflow:seconds for training step: 2.006\n",
      "INFO:tensorflow:loss: 0.621380\n",
      "INFO:tensorflow:recall: 0.897175, ratio: 0.850654, thres: 0.254688\n",
      "Step:  55\nINFO:tensorflow:running training step...\n",
      "INFO:tensorflow:seconds for training step: 1.754\n",
      "INFO:tensorflow:loss: 0.599001\n",
      "INFO:tensorflow:recall: 0.906960, ratio: 0.769896, thres: 0.251172\n",
      "Step:  56\nINFO:tensorflow:running training step...\n",
      "INFO:tensorflow:seconds for training step: 1.661\n",
      "INFO:tensorflow:loss: 0.632557\n",
      "INFO:tensorflow:recall: 0.901619, ratio: 0.841431, thres: 0.184375\n",
      "Step:  57\nINFO:tensorflow:running training step...\n",
      "INFO:tensorflow:seconds for training step: 1.959\n",
      "INFO:tensorflow:loss: 0.585686\n",
      "INFO:tensorflow:recall: 0.905441, ratio: 0.894834, thres: 0.194922\n",
      "Step:  58\nINFO:tensorflow:running training step...\n",
      "INFO:tensorflow:seconds for training step: 1.818\n",
      "INFO:tensorflow:loss: 0.646275\n",
      "INFO:tensorflow:recall: 0.903423, ratio: 0.897709, thres: 0.170313\n",
      "Step:  59\nINFO:tensorflow:running training step...\n",
      "INFO:tensorflow:seconds for training step: 1.694\n",
      "INFO:tensorflow:loss: 0.589939\n",
      "INFO:tensorflow:recall: 0.896752, ratio: 0.843516, thres: 0.191406\n",
      "Step:  60\nINFO:tensorflow:running training step...\n",
      "INFO:tensorflow:seconds for training step: 1.735\n",
      "INFO:tensorflow:loss: 0.628241\n",
      "INFO:tensorflow:recall: 0.891271, ratio: 0.850289, thres: 0.135156\n",
      "Step:  61\nINFO:tensorflow:running training step...\n",
      "INFO:tensorflow:seconds for training step: 1.743\n",
      "INFO:tensorflow:loss: 0.584659\n",
      "INFO:tensorflow:recall: 0.894048, ratio: 0.813000, thres: 0.252930\n",
      "Step:  62\nWARNING:tensorflow:Bucket input queue is empty when calling next_batch.\n",
      "INFO:tensorflow:training has finished - no more batches left...\n"
     ],
     "output_type": "stream"
    }
   ],
   "source": [
    "model = ExtractorModel(hps, vocab)\n",
    "run_selector.setup_training(model, batcher)"
   ],
   "metadata": {
    "collapsed": false,
    "pycharm": {
     "name": "#%%\n",
     "is_executing": false
    }
   }
  },
  {
   "cell_type": "code",
   "execution_count": null,
   "outputs": [],
   "source": [
    "run_selector.run_eval(model, batcher)"
   ],
   "metadata": {
    "collapsed": false,
    "pycharm": {
     "name": "#%%\n"
    }
   }
  }
 ],
 "metadata": {
  "kernelspec": {
   "name": "python2",
   "language": "python",
   "display_name": "Python 2"
  },
  "language_info": {
   "codemirror_mode": {
    "name": "ipython",
    "version": 2
   },
   "file_extension": ".py",
   "mimetype": "text/x-python",
   "name": "python",
   "nbconvert_exporter": "python",
   "pygments_lexer": "ipython2",
   "version": "2.7.6"
  },
  "pycharm": {
   "stem_cell": {
    "cell_type": "raw",
    "source": [],
    "metadata": {
     "collapsed": false
    }
   }
  }
 },
 "nbformat": 4,
 "nbformat_minor": 0
}