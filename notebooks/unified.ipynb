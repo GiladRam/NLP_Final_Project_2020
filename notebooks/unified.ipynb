{
 "cells": [
  {
   "cell_type": "code",
   "execution_count": null,
   "outputs": [],
   "source": [
    "from collections import namedtuple\n",
    "\n",
    "from data_preperation.batcher import Batcher\n",
    "from data_preperation.data import Vocab\n",
    "\n",
    "from absl import flags\n",
    "from unified import run_end2end\n",
    "from unified.model import UnifiedModel\n",
    "from extractor.model import ExtractorModel\n",
    "from abstract.model import AbstractModel\n",
    "\n",
    "flags.FLAGS([\"unified\"])\n",
    "from utils import settings\n",
    "\n",
    "FLAGS = flags.FLAGS"
   ],
   "metadata": {
    "collapsed": false,
    "pycharm": {
     "name": "#%%\n",
     "is_executing": true
    }
   }
  },
  {
   "cell_type": "code",
   "execution_count": null,
   "outputs": [],
   "source": [
    "VOCAB_PATH= '/Users/giladram/Documents/NLP/Final Project/unified-summarization/data/finished_files/vocab'\n",
    "\n",
    "vocab = Vocab(VOCAB_PATH, FLAGS.vocab_size)  # create a vocabulary"
   ],
   "metadata": {
    "collapsed": false,
    "pycharm": {
     "name": "#%% \n",
     "is_executing": true
    }
   }
  },
  {
   "cell_type": "code",
   "execution_count": null,
   "outputs": [],
   "source": [
    "FLAGS.mode = 'train'\n",
    "FLAGS.model = 'end2end'\n",
    "FLAGS.coverage = True\n",
    "\n",
    "hparam_list = ['model', 'mode', 'eval_method', 'selector_loss_wt', 'inconsistent_loss', 'inconsistent_topk', 'lr',\n",
    "               'adagrad_init_acc', 'rand_unif_init_mag', 'trunc_norm_init_std', 'max_grad_norm',\n",
    "               'hidden_dim_selector', 'hidden_dim_rewriter', 'emb_dim', 'batch_size', 'max_art_len', 'max_sent_len',\n",
    "               'max_dec_steps', 'max_enc_steps', 'coverage', 'cov_loss_wt', 'eval_gt_rouge', 'decode_method']\n",
    "hps_dict = {}\n",
    "for key, val in FLAGS.__flags.items():  # for each flag\n",
    "    if key in hparam_list:  # if it's in the list\n",
    "        hps_dict[key] = val.value  # add it to the dict\n",
    "hps = namedtuple(\"HParams\", hps_dict.keys())(**hps_dict)"
   ],
   "metadata": {
    "collapsed": false,
    "pycharm": {
     "name": "#%%\n",
     "is_executing": true
    }
   }
  },
  {
   "cell_type": "code",
   "execution_count": null,
   "outputs": [],
   "source": [
    "batcher = Batcher(FLAGS.data_path, vocab, hps, single_pass=True)"
   ],
   "metadata": {
    "collapsed": false,
    "pycharm": {
     "name": "#%%\n",
     "is_executing": true
    }
   }
  },
  {
   "cell_type": "code",
   "execution_count": null,
   "outputs": [],
   "source": [
    "selector_model = ExtractorModel(hps, vocab)\n",
    "writer_model = AbstractModel(hps, vocab)\n",
    "model = UnifiedModel(hps, selector_model, writer_model)\n",
    "run_end2end.setup_training(model, batcher)"
   ],
   "metadata": {
    "collapsed": false,
    "pycharm": {
     "name": "#%%\n",
     "is_executing": true
    }
   }
  },
  {
   "cell_type": "code",
   "execution_count": null,
   "outputs": [],
   "source": [
    "run_end2end.run_eval(model, batcher)"
   ],
   "metadata": {
    "collapsed": false,
    "pycharm": {
     "name": "#%%\n",
     "is_executing": true
    }
   }
  },
  {
   "cell_type": "code",
   "execution_count": null,
   "outputs": [],
   "source": [
    "\n"
   ],
   "metadata": {
    "collapsed": false,
    "pycharm": {
     "name": "#%%\n",
     "is_executing": true
    }
   }
  }
 ],
 "metadata": {
  "kernelspec": {
   "name": "python2",
   "language": "python",
   "display_name": "Python 2"
  },
  "language_info": {
   "codemirror_mode": {
    "name": "ipython",
    "version": 2
   },
   "file_extension": ".py",
   "mimetype": "text/x-python",
   "name": "python",
   "nbconvert_exporter": "python",
   "pygments_lexer": "ipython2",
   "version": "2.7.6"
  },
  "pycharm": {
   "stem_cell": {
    "cell_type": "raw",
    "source": [],
    "metadata": {
     "collapsed": false
    }
   }
  }
 },
 "nbformat": 4,
 "nbformat_minor": 0
}